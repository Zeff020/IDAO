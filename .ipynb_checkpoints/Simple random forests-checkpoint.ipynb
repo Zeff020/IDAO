{
 "cells": [
  {
   "cell_type": "code",
   "execution_count": 1,
   "metadata": {},
   "outputs": [
    {
     "name": "stderr",
     "output_type": "stream",
     "text": [
      "C:\\ProgramData\\Anaconda3\\lib\\site-packages\\sklearn\\ensemble\\weight_boosting.py:29: DeprecationWarning: numpy.core.umath_tests is an internal NumPy module and should not be imported. It will be removed in a future NumPy release.\n",
      "  from numpy.core.umath_tests import inner1d\n"
     ]
    }
   ],
   "source": [
    "import utils\n",
    "import pandas as pd\n",
    "import numpy as np\n",
    "from sklearn.model_selection import train_test_split\n",
    "from sklearn.ensemble import RandomForestClassifier"
   ]
  },
  {
   "cell_type": "code",
   "execution_count": 2,
   "metadata": {},
   "outputs": [],
   "source": [
    "path = r\"./data/\""
   ]
  },
  {
   "cell_type": "code",
   "execution_count": 3,
   "metadata": {},
   "outputs": [
    {
     "name": "stderr",
     "output_type": "stream",
     "text": [
      "C:\\ProgramData\\Anaconda3\\lib\\site-packages\\numpy\\lib\\arraysetops.py:571: FutureWarning: elementwise comparison failed; returning scalar instead, but in the future will perform elementwise comparison\n",
      "  mask |= (ar1 == a)\n"
     ]
    }
   ],
   "source": [
    "train, test = utils.load_data_csv(\n",
    "    path, utils.SIMPLE_FEATURE_COLUMNS)"
   ]
  },
  {
   "cell_type": "code",
   "execution_count": 4,
   "metadata": {},
   "outputs": [],
   "source": [
    "df_y = train[\"label\"] # df_y consists of all the labels, target variable"
   ]
  },
  {
   "cell_type": "code",
   "execution_count": 5,
   "metadata": {},
   "outputs": [],
   "source": [
    "df_x = train[utils.SIMPLE_FEATURE_COLUMNS] # df_x consists of all of the other data"
   ]
  },
  {
   "cell_type": "code",
   "execution_count": 7,
   "metadata": {},
   "outputs": [
    {
     "data": {
      "text/plain": [
       "(5445705,)"
      ]
     },
     "execution_count": 7,
     "metadata": {},
     "output_type": "execute_result"
    }
   ],
   "source": [
    "df_y.shape"
   ]
  },
  {
   "cell_type": "code",
   "execution_count": 9,
   "metadata": {},
   "outputs": [
    {
     "data": {
      "text/html": [
       "<div>\n",
       "<style scoped>\n",
       "    .dataframe tbody tr th:only-of-type {\n",
       "        vertical-align: middle;\n",
       "    }\n",
       "\n",
       "    .dataframe tbody tr th {\n",
       "        vertical-align: top;\n",
       "    }\n",
       "\n",
       "    .dataframe thead th {\n",
       "        text-align: right;\n",
       "    }\n",
       "</style>\n",
       "<table border=\"1\" class=\"dataframe\">\n",
       "  <thead>\n",
       "    <tr style=\"text-align: right;\">\n",
       "      <th></th>\n",
       "      <th>ncl[0]</th>\n",
       "      <th>ncl[1]</th>\n",
       "      <th>ncl[2]</th>\n",
       "      <th>ncl[3]</th>\n",
       "      <th>avg_cs[0]</th>\n",
       "      <th>avg_cs[1]</th>\n",
       "      <th>avg_cs[2]</th>\n",
       "      <th>avg_cs[3]</th>\n",
       "      <th>ndof</th>\n",
       "      <th>MatchedHit_TYPE[0]</th>\n",
       "      <th>...</th>\n",
       "      <th>Mextra_DX2[1]</th>\n",
       "      <th>Mextra_DX2[2]</th>\n",
       "      <th>Mextra_DX2[3]</th>\n",
       "      <th>Mextra_DY2[0]</th>\n",
       "      <th>Mextra_DY2[1]</th>\n",
       "      <th>Mextra_DY2[2]</th>\n",
       "      <th>Mextra_DY2[3]</th>\n",
       "      <th>FOI_hits_N</th>\n",
       "      <th>PT</th>\n",
       "      <th>P</th>\n",
       "    </tr>\n",
       "  </thead>\n",
       "  <tbody>\n",
       "    <tr>\n",
       "      <th>0</th>\n",
       "      <td>47</td>\n",
       "      <td>31</td>\n",
       "      <td>13</td>\n",
       "      <td>15</td>\n",
       "      <td>2.000000</td>\n",
       "      <td>1.580645</td>\n",
       "      <td>1.153846</td>\n",
       "      <td>1.133333</td>\n",
       "      <td>8</td>\n",
       "      <td>2</td>\n",
       "      <td>...</td>\n",
       "      <td>986.100800</td>\n",
       "      <td>2201.95020</td>\n",
       "      <td>4295.08540</td>\n",
       "      <td>333.436300</td>\n",
       "      <td>951.68540</td>\n",
       "      <td>2125.09990</td>\n",
       "      <td>4145.18160</td>\n",
       "      <td>6</td>\n",
       "      <td>1764.925899</td>\n",
       "      <td>12646.817591</td>\n",
       "    </tr>\n",
       "    <tr>\n",
       "      <th>1</th>\n",
       "      <td>92</td>\n",
       "      <td>19</td>\n",
       "      <td>11</td>\n",
       "      <td>26</td>\n",
       "      <td>2.750000</td>\n",
       "      <td>2.789474</td>\n",
       "      <td>1.363636</td>\n",
       "      <td>1.230769</td>\n",
       "      <td>8</td>\n",
       "      <td>2</td>\n",
       "      <td>...</td>\n",
       "      <td>181.760790</td>\n",
       "      <td>405.53920</td>\n",
       "      <td>777.42914</td>\n",
       "      <td>64.267190</td>\n",
       "      <td>185.53355</td>\n",
       "      <td>413.95690</td>\n",
       "      <td>793.56604</td>\n",
       "      <td>4</td>\n",
       "      <td>4511.281266</td>\n",
       "      <td>28556.630027</td>\n",
       "    </tr>\n",
       "    <tr>\n",
       "      <th>2</th>\n",
       "      <td>100</td>\n",
       "      <td>21</td>\n",
       "      <td>11</td>\n",
       "      <td>12</td>\n",
       "      <td>2.930000</td>\n",
       "      <td>2.428571</td>\n",
       "      <td>1.181818</td>\n",
       "      <td>1.083333</td>\n",
       "      <td>8</td>\n",
       "      <td>2</td>\n",
       "      <td>...</td>\n",
       "      <td>447.806340</td>\n",
       "      <td>996.01324</td>\n",
       "      <td>1931.48400</td>\n",
       "      <td>159.182330</td>\n",
       "      <td>440.46994</td>\n",
       "      <td>979.69520</td>\n",
       "      <td>1899.83920</td>\n",
       "      <td>9</td>\n",
       "      <td>1062.550086</td>\n",
       "      <td>17491.702634</td>\n",
       "    </tr>\n",
       "    <tr>\n",
       "      <th>3</th>\n",
       "      <td>74</td>\n",
       "      <td>27</td>\n",
       "      <td>13</td>\n",
       "      <td>20</td>\n",
       "      <td>3.067568</td>\n",
       "      <td>2.518518</td>\n",
       "      <td>1.923077</td>\n",
       "      <td>1.300000</td>\n",
       "      <td>8</td>\n",
       "      <td>2</td>\n",
       "      <td>...</td>\n",
       "      <td>104.446304</td>\n",
       "      <td>232.03485</td>\n",
       "      <td>443.21832</td>\n",
       "      <td>36.024845</td>\n",
       "      <td>103.41968</td>\n",
       "      <td>229.75415</td>\n",
       "      <td>438.86194</td>\n",
       "      <td>5</td>\n",
       "      <td>4991.074825</td>\n",
       "      <td>37192.868559</td>\n",
       "    </tr>\n",
       "    <tr>\n",
       "      <th>4</th>\n",
       "      <td>18</td>\n",
       "      <td>22</td>\n",
       "      <td>8</td>\n",
       "      <td>8</td>\n",
       "      <td>1.833333</td>\n",
       "      <td>1.954546</td>\n",
       "      <td>1.125000</td>\n",
       "      <td>1.750000</td>\n",
       "      <td>8</td>\n",
       "      <td>2</td>\n",
       "      <td>...</td>\n",
       "      <td>557.676900</td>\n",
       "      <td>1254.90620</td>\n",
       "      <td>2430.53470</td>\n",
       "      <td>190.557480</td>\n",
       "      <td>551.34094</td>\n",
       "      <td>1240.64840</td>\n",
       "      <td>2402.91920</td>\n",
       "      <td>6</td>\n",
       "      <td>1347.704888</td>\n",
       "      <td>16688.746174</td>\n",
       "    </tr>\n",
       "  </tbody>\n",
       "</table>\n",
       "<p>5 rows × 65 columns</p>\n",
       "</div>"
      ],
      "text/plain": [
       "   ncl[0]  ncl[1]  ncl[2]  ncl[3]  avg_cs[0]  avg_cs[1]  avg_cs[2]  avg_cs[3]  \\\n",
       "0      47      31      13      15   2.000000   1.580645   1.153846   1.133333   \n",
       "1      92      19      11      26   2.750000   2.789474   1.363636   1.230769   \n",
       "2     100      21      11      12   2.930000   2.428571   1.181818   1.083333   \n",
       "3      74      27      13      20   3.067568   2.518518   1.923077   1.300000   \n",
       "4      18      22       8       8   1.833333   1.954546   1.125000   1.750000   \n",
       "\n",
       "   ndof  MatchedHit_TYPE[0]      ...       Mextra_DX2[1]  Mextra_DX2[2]  \\\n",
       "0     8                   2      ...          986.100800     2201.95020   \n",
       "1     8                   2      ...          181.760790      405.53920   \n",
       "2     8                   2      ...          447.806340      996.01324   \n",
       "3     8                   2      ...          104.446304      232.03485   \n",
       "4     8                   2      ...          557.676900     1254.90620   \n",
       "\n",
       "   Mextra_DX2[3]  Mextra_DY2[0]  Mextra_DY2[1]  Mextra_DY2[2]  Mextra_DY2[3]  \\\n",
       "0     4295.08540     333.436300      951.68540     2125.09990     4145.18160   \n",
       "1      777.42914      64.267190      185.53355      413.95690      793.56604   \n",
       "2     1931.48400     159.182330      440.46994      979.69520     1899.83920   \n",
       "3      443.21832      36.024845      103.41968      229.75415      438.86194   \n",
       "4     2430.53470     190.557480      551.34094     1240.64840     2402.91920   \n",
       "\n",
       "   FOI_hits_N           PT             P  \n",
       "0           6  1764.925899  12646.817591  \n",
       "1           4  4511.281266  28556.630027  \n",
       "2           9  1062.550086  17491.702634  \n",
       "3           5  4991.074825  37192.868559  \n",
       "4           6  1347.704888  16688.746174  \n",
       "\n",
       "[5 rows x 65 columns]"
      ]
     },
     "execution_count": 9,
     "metadata": {},
     "output_type": "execute_result"
    }
   ],
   "source": [
    "df_x.head()"
   ]
  },
  {
   "cell_type": "code",
   "execution_count": 10,
   "metadata": {},
   "outputs": [],
   "source": [
    "x_train, x_test, y_train, y_test = train_test_split(df_x, df_y, test_size=0.25)"
   ]
  },
  {
   "cell_type": "code",
   "execution_count": 11,
   "metadata": {},
   "outputs": [
    {
     "data": {
      "text/plain": [
       "RandomForestClassifier(bootstrap=True, class_weight=None, criterion='gini',\n",
       "            max_depth=None, max_features='auto', max_leaf_nodes=None,\n",
       "            min_impurity_decrease=0.0, min_impurity_split=None,\n",
       "            min_samples_leaf=1, min_samples_split=2,\n",
       "            min_weight_fraction_leaf=0.0, n_estimators=100, n_jobs=1,\n",
       "            oob_score=True, random_state=123456, verbose=0,\n",
       "            warm_start=False)"
      ]
     },
     "execution_count": 11,
     "metadata": {},
     "output_type": "execute_result"
    }
   ],
   "source": [
    "rf = RandomForestClassifier(n_estimators=100, oob_score=True, random_state=123456)\n",
    "rf.fit(x_train, y_train)"
   ]
  },
  {
   "cell_type": "code",
   "execution_count": 12,
   "metadata": {},
   "outputs": [],
   "source": [
    "pred = rf.predict(x_test)"
   ]
  },
  {
   "cell_type": "code",
   "execution_count": 14,
   "metadata": {},
   "outputs": [
    {
     "name": "stdout",
     "output_type": "stream",
     "text": [
      "0.9423193458040717\n"
     ]
    }
   ],
   "source": [
    "counter = 0\n",
    "for i in range(len(pred)):\n",
    "    if pred[i] == y_test.values[i]:\n",
    "        counter += 1\n",
    "accuracy = counter/len(pred)\n",
    "print(accuracy)"
   ]
  },
  {
   "cell_type": "code",
   "execution_count": null,
   "metadata": {},
   "outputs": [],
   "source": []
  }
 ],
 "metadata": {
  "kernelspec": {
   "display_name": "Python 3",
   "language": "python",
   "name": "python3"
  },
  "language_info": {
   "codemirror_mode": {
    "name": "ipython",
    "version": 3
   },
   "file_extension": ".py",
   "mimetype": "text/x-python",
   "name": "python",
   "nbconvert_exporter": "python",
   "pygments_lexer": "ipython3",
   "version": "3.7.0"
  }
 },
 "nbformat": 4,
 "nbformat_minor": 2
}
