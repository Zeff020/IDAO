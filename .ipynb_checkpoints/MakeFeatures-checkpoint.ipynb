{
 "cells": [
  {
   "cell_type": "code",
   "execution_count": 1,
   "metadata": {},
   "outputs": [
    {
     "name": "stdout",
     "output_type": "stream",
     "text": [
      "Loading in data...\n",
      "Finished loading in data, starting feature generation for train dataset\n",
      "Starting kink\n"
     ]
    }
   ],
   "source": [
    "import utils\n",
    "import numpy as np\n",
    "import pandas as pd\n",
    "from mathutils.geometry import intersect_point_line\n",
    "from numpy.linalg import norm\n",
    "\n",
    "print(\"Loading in data...\")\n",
    "# Loading data sets\n",
    "PATH = r\"./data/\"\n",
    "train, test = utils.load_small_data_csv(PATH,\"train_smaller100.csv.gz\",\"test_smaller100.csv.gz\", utils.SIMPLE_FEATURE_COLUMNS)\n",
    "print(\"Finished loading in data, starting feature generation for train dataset\")\n",
    "print(\"Starting kink\")\n",
    "#### TRAIN FEATURES ####\n",
    "\n",
    "DataSet = train\n",
    "Location_info = DataSet.loc[: , \"MatchedHit_X[0]\":\"MatchedHit_Z[3]\"]\n",
    "countertrain = 0\n",
    "countertest = 0"
   ]
  },
  {
   "cell_type": "code",
   "execution_count": 16,
   "metadata": {},
   "outputs": [],
   "source": [
    "PointResiduals = np.array([])\n",
    "Angles = np.array([])\n",
    "LineSlope1 = np.array([])\n",
    "LineSlope2 = np.array([])\n",
    "LineSlope3 = np.array([])\n",
    "FourthPointResiduals = np.array([])\n",
    "FirstPointResiduals = np.array([])\n",
    "Shape = DataSet.shape[0]\n",
    "\n",
    "train['PointResiduals'] = pd.Series(PointResiduals)\n",
    "train['Angles'] = pd.Series(Angles)\n",
    "train['LineSlope1'] = pd.Series(LineSlope1)\n",
    "train['LineSlope2'] = pd.Series(LineSlope2)\n",
    "train['LineSlope3'] = pd.Series(LineSlope3)\n",
    "train['FirstPointResiduals'] = pd.Series(FirstPointResiduals)\n",
    "train['FourthPointResiduals'] = pd.Series(FourthPointResiduals)\n",
    "\n",
    "train.to_csv(r\"./data\" + r\"/trainMoreFeatures\" + \".csv\")\n"
   ]
  },
  {
   "cell_type": "code",
   "execution_count": 14,
   "metadata": {},
   "outputs": [
    {
     "name": "stdout",
     "output_type": "stream",
     "text": [
      " Evaluated 0 features out of a total of 54457\n",
      " Evaluated 10000 features out of a total of 54457\n",
      " Evaluated 20000 features out of a total of 54457\n",
      " Evaluated 30000 features out of a total of 54457\n",
      " Evaluated 40000 features out of a total of 54457\n",
      " Evaluated 50000 features out of a total of 54457\n"
     ]
    }
   ],
   "source": [
    "for i in range(0,DataSet.shape[0]):\n",
    "    ResidualsSize = 0\n",
    "\n",
    "    if i % 10000 == 0:\n",
    "        print(\" Evaluated \" + str(i) + \" features out of a total of \" + str(Shape)) \n",
    "\n",
    "    LineSlope = np.array([])\n",
    "    # Extracting info on the i-th particle's coordinates\n",
    "    Particle_Path_Points = Location_info.loc[i,:]\n",
    "    X = Particle_Path_Points.loc['MatchedHit_X[0]':'MatchedHit_X[3]'].values\n",
    "    Y = Particle_Path_Points.loc['MatchedHit_Y[0]':'MatchedHit_Y[3]'].values\n",
    "    Z = Particle_Path_Points.loc['MatchedHit_Z[0]':'MatchedHit_Z[3]'].values\n",
    "\n",
    "    data = np.concatenate((X[:, np.newaxis], \n",
    "                        Y[:, np.newaxis], \n",
    "                        Z[:, np.newaxis]), \n",
    "                        axis=1)\n",
    "\n",
    "    datamean = data.mean(axis=0)\n",
    "\n",
    "    # uu, dd and vv contain information on the fit. In fact, vv[0] contains the direction of the best fit (least squares)\n",
    "    uu, dd, vv = np.linalg.svd(data - datamean)\n",
    "\n",
    "    # Best fit line with length between -2500 and 2500 with 2 datapoints (it's a straight line so that's enough)\n",
    "    linepts = vv[0] * np.mgrid[-2500:2500:2j][:, np.newaxis]\n",
    "    LineSlope = vv[0]\n",
    "    LineSlope1 = np.append(LineSlope1, LineSlope[0])\n",
    "    LineSlope2 = np.append(LineSlope2, LineSlope[1])\n",
    "    LineSlope3 = np.append(LineSlope3, LineSlope[2])\n",
    "\n",
    "\n",
    "    # Shift by the mean to get the line in the right place (centered)\n",
    "    linepts += datamean\n",
    "\n",
    "    # Do a little loop where we add the residuals of all four of the points\n",
    "    for j in range (0,4):\n",
    "        intersect = intersect_point_line(data[j], linepts[0], linepts[1])\n",
    "        ResidualsSize += abs(sum(data[j] - intersect[0]))\n",
    "\n",
    "    PointResiduals = np.append(PointResiduals, ResidualsSize)\n",
    "\n",
    "    # Singular value decomposition on first line to get its derivative (angle)\n",
    "    DataFirstTwo = data[0:2,:]\n",
    "    datamean = DataFirstTwo.mean(axis=0)\n",
    "    uu, dd, vv = np.linalg.svd(DataFirstTwo - datamean)\n",
    "    FirstLineAngle = vv[0]\n",
    "\n",
    "\n",
    "    # Singular value decomposition on second line to get its derivative (angle)\n",
    "    DataSecondTwo = data[2:4,:]    \n",
    "    datamean = DataSecondTwo.mean(axis=0)\n",
    "    uu, dd, vv = np.linalg.svd(DataSecondTwo - datamean)\n",
    "    SecondLineAngle = vv[0]\n",
    "\n",
    "    # Finding the angle between the vectors made up by the first and second line. Simply dot product as both lines are normalized (norm=1 for both)\n",
    "    Angle = np.dot(FirstLineAngle,SecondLineAngle)\n",
    "    Angles = np.append(Angles, Angle)\n",
    "\n",
    "    # Singular value decomposition for first three points to get residuals with the fourth point\n",
    "    DataFirstThree = data[0:3,:]\n",
    "    datamean = DataFirstThree.mean(axis=0)\n",
    "    uu, dd, vv = np.linalg.svd(DataFirstThree - datamean)\n",
    "\n",
    "    linepts = vv[0] * np.mgrid[-2500:2500:2j][:, np.newaxis]\n",
    "    linepts += datamean\n",
    "\n",
    "    intersect = intersect_point_line(data[3], linepts[0], linepts[1])\n",
    "    ResidualSize = abs(norm(data[3] - intersect[0]))\n",
    "\n",
    "    FourthPointResiduals = np.append(FourthPointResiduals, ResidualSize)\n",
    "\n",
    "    # Singular value decomposition for last three points to get residuals with the first point\n",
    "    DataLastThree = data[1:4,:]\n",
    "    datamean = DataLastThree.mean(axis=0)\n",
    "    uu, dd, vv = np.linalg.svd(DataLastThree - datamean)\n",
    "\n",
    "    linepts = vv[0] * np.mgrid[-2500:2500:2j][:, np.newaxis]\n",
    "    linepts += datamean\n",
    "\n",
    "    intersect = intersect_point_line(data[0], linepts[0], linepts[1])\n",
    "    ResidualSize = abs(norm(data[0] - intersect[0]))\n",
    "\n",
    "    FirstPointResiduals = np.append(FirstPointResiduals, ResidualSize)"
   ]
  },
  {
   "cell_type": "code",
   "execution_count": 23,
   "metadata": {},
   "outputs": [
    {
     "ename": "ValueError",
     "evalue": "cannot set a frame with no defined columns",
     "output_type": "error",
     "traceback": [
      "\u001b[1;31m---------------------------------------------------------------------------\u001b[0m",
      "\u001b[1;31mValueError\u001b[0m                                Traceback (most recent call last)",
      "\u001b[1;32m<ipython-input-23-bfb9fd650f75>\u001b[0m in \u001b[0;36m<module>\u001b[1;34m\u001b[0m\n\u001b[0;32m      4\u001b[0m \u001b[1;33m\u001b[0m\u001b[0m\n\u001b[0;32m      5\u001b[0m \u001b[0mdf\u001b[0m \u001b[1;33m=\u001b[0m \u001b[0mpd\u001b[0m\u001b[1;33m.\u001b[0m\u001b[0mDataFrame\u001b[0m\u001b[1;33m(\u001b[0m\u001b[1;33m[\u001b[0m\u001b[1;33m]\u001b[0m\u001b[1;33m)\u001b[0m\u001b[1;33m\u001b[0m\u001b[1;33m\u001b[0m\u001b[0m\n\u001b[1;32m----> 6\u001b[1;33m \u001b[0mdf\u001b[0m\u001b[1;33m.\u001b[0m\u001b[0mloc\u001b[0m\u001b[1;33m[\u001b[0m\u001b[1;34m'PointResiduals'\u001b[0m\u001b[1;33m]\u001b[0m \u001b[1;33m=\u001b[0m \u001b[0mpd\u001b[0m\u001b[1;33m.\u001b[0m\u001b[0mSeries\u001b[0m\u001b[1;33m(\u001b[0m\u001b[0mPointResiduals\u001b[0m\u001b[1;33m)\u001b[0m\u001b[1;33m\u001b[0m\u001b[1;33m\u001b[0m\u001b[0m\n\u001b[0m\u001b[0;32m      7\u001b[0m \u001b[0mdf\u001b[0m\u001b[1;33m.\u001b[0m\u001b[0mloc\u001b[0m\u001b[1;33m[\u001b[0m\u001b[1;34m'Angles'\u001b[0m\u001b[1;33m]\u001b[0m \u001b[1;33m=\u001b[0m \u001b[0mpd\u001b[0m\u001b[1;33m.\u001b[0m\u001b[0mSeries\u001b[0m\u001b[1;33m(\u001b[0m\u001b[0mAngles\u001b[0m\u001b[1;33m)\u001b[0m\u001b[1;33m\u001b[0m\u001b[1;33m\u001b[0m\u001b[0m\n\u001b[0;32m      8\u001b[0m \u001b[0mdf\u001b[0m\u001b[1;33m.\u001b[0m\u001b[0mloc\u001b[0m\u001b[1;33m[\u001b[0m\u001b[1;34m'LineSlope1'\u001b[0m\u001b[1;33m]\u001b[0m \u001b[1;33m=\u001b[0m \u001b[0mpd\u001b[0m\u001b[1;33m.\u001b[0m\u001b[0mSeries\u001b[0m\u001b[1;33m(\u001b[0m\u001b[0mLineSlope1\u001b[0m\u001b[1;33m)\u001b[0m\u001b[1;33m\u001b[0m\u001b[1;33m\u001b[0m\u001b[0m\n",
      "\u001b[1;32mc:\\miniconda\\envs\\py36\\lib\\site-packages\\pandas\\core\\indexing.py\u001b[0m in \u001b[0;36m__setitem__\u001b[1;34m(self, key, value)\u001b[0m\n\u001b[0;32m    188\u001b[0m             \u001b[0mkey\u001b[0m \u001b[1;33m=\u001b[0m \u001b[0mcom\u001b[0m\u001b[1;33m.\u001b[0m\u001b[0mapply_if_callable\u001b[0m\u001b[1;33m(\u001b[0m\u001b[0mkey\u001b[0m\u001b[1;33m,\u001b[0m \u001b[0mself\u001b[0m\u001b[1;33m.\u001b[0m\u001b[0mobj\u001b[0m\u001b[1;33m)\u001b[0m\u001b[1;33m\u001b[0m\u001b[1;33m\u001b[0m\u001b[0m\n\u001b[0;32m    189\u001b[0m         \u001b[0mindexer\u001b[0m \u001b[1;33m=\u001b[0m \u001b[0mself\u001b[0m\u001b[1;33m.\u001b[0m\u001b[0m_get_setitem_indexer\u001b[0m\u001b[1;33m(\u001b[0m\u001b[0mkey\u001b[0m\u001b[1;33m)\u001b[0m\u001b[1;33m\u001b[0m\u001b[1;33m\u001b[0m\u001b[0m\n\u001b[1;32m--> 190\u001b[1;33m         \u001b[0mself\u001b[0m\u001b[1;33m.\u001b[0m\u001b[0m_setitem_with_indexer\u001b[0m\u001b[1;33m(\u001b[0m\u001b[0mindexer\u001b[0m\u001b[1;33m,\u001b[0m \u001b[0mvalue\u001b[0m\u001b[1;33m)\u001b[0m\u001b[1;33m\u001b[0m\u001b[1;33m\u001b[0m\u001b[0m\n\u001b[0m\u001b[0;32m    191\u001b[0m \u001b[1;33m\u001b[0m\u001b[0m\n\u001b[0;32m    192\u001b[0m     \u001b[1;32mdef\u001b[0m \u001b[0m_validate_key\u001b[0m\u001b[1;33m(\u001b[0m\u001b[0mself\u001b[0m\u001b[1;33m,\u001b[0m \u001b[0mkey\u001b[0m\u001b[1;33m,\u001b[0m \u001b[0maxis\u001b[0m\u001b[1;33m)\u001b[0m\u001b[1;33m:\u001b[0m\u001b[1;33m\u001b[0m\u001b[1;33m\u001b[0m\u001b[0m\n",
      "\u001b[1;32mc:\\miniconda\\envs\\py36\\lib\\site-packages\\pandas\\core\\indexing.py\u001b[0m in \u001b[0;36m_setitem_with_indexer\u001b[1;34m(self, indexer, value)\u001b[0m\n\u001b[0;32m    427\u001b[0m                     \u001b[1;31m# no columns and scalar\u001b[0m\u001b[1;33m\u001b[0m\u001b[1;33m\u001b[0m\u001b[1;33m\u001b[0m\u001b[0m\n\u001b[0;32m    428\u001b[0m                     \u001b[1;32mif\u001b[0m \u001b[1;32mnot\u001b[0m \u001b[0mlen\u001b[0m\u001b[1;33m(\u001b[0m\u001b[0mself\u001b[0m\u001b[1;33m.\u001b[0m\u001b[0mobj\u001b[0m\u001b[1;33m.\u001b[0m\u001b[0mcolumns\u001b[0m\u001b[1;33m)\u001b[0m\u001b[1;33m:\u001b[0m\u001b[1;33m\u001b[0m\u001b[1;33m\u001b[0m\u001b[0m\n\u001b[1;32m--> 429\u001b[1;33m                         raise ValueError(\"cannot set a frame with no defined \"\n\u001b[0m\u001b[0;32m    430\u001b[0m                                          \"columns\")\n\u001b[0;32m    431\u001b[0m \u001b[1;33m\u001b[0m\u001b[0m\n",
      "\u001b[1;31mValueError\u001b[0m: cannot set a frame with no defined columns"
     ]
    }
   ],
   "source": [
    "countertrain = 5\n",
    "DataSet = train\n",
    "i = DataSet.shape[0]-1\n",
    "\n",
    "df = pd.DataFrame([],columns = [\"PointResiduals\", \"Angles\", \"LineSlope1\", \"LineSlope2\", \"LineSlope3\", \"FirstPointResiduals\", \"FourthPointResiduals\"])\n",
    "df.loc['PointResiduals'] = pd.Series(PointResiduals)\n",
    "df.loc['Angles'] = pd.Series(Angles)\n",
    "df.loc['LineSlope1'] = pd.Series(LineSlope1)\n",
    "df.loc['LineSlope2'] = pd.Series(LineSlope2)\n",
    "df.loc['LineSlope3'] = pd.Series(LineSlope3)\n",
    "df.loc['FirstPointResiduals'] = pd.Series(FirstPointResiduals)\n",
    "df.loc['FourthPointResiduals'] = pd.Series(FourthPointResiduals)\n",
    "\n",
    "with open('./data/trainMoreFeatures.csv', 'a') as f:\n",
    "    df.to_csv(f, header=False)"
   ]
  },
  {
   "cell_type": "code",
   "execution_count": null,
   "metadata": {},
   "outputs": [],
   "source": [
    "\n",
    "df = pd.DataFrame([])\n",
    "PointResiduals = np.array([])\n",
    "Angles = np.array([])\n",
    "LineSlope1 = np.array([])\n",
    "LineSlope2 = np.array([])\n",
    "LineSlope3 = np.array([])\n",
    "FourthPointResiduals = np.array([])\n",
    "FirstPointResiduals = np.array([])"
   ]
  },
  {
   "cell_type": "code",
   "execution_count": 21,
   "metadata": {},
   "outputs": [
    {
     "data": {
      "text/plain": [
       "Index([                     0,                      1,                      2,\n",
       "                            3,                      4,                      5,\n",
       "                            6,                      7,                      8,\n",
       "                            9,\n",
       "       ...\n",
       "                        54454,                  54455,                  54456,\n",
       "             'PointResiduals',               'Angles',           'LineSlope1',\n",
       "                 'LineSlope2',           'LineSlope3',  'FirstPointResiduals',\n",
       "       'FourthPointResiduals'],\n",
       "      dtype='object', length=54464)"
      ]
     },
     "execution_count": 21,
     "metadata": {},
     "output_type": "execute_result"
    }
   ],
   "source": [
    "df.index"
   ]
  },
  {
   "cell_type": "code",
   "execution_count": null,
   "metadata": {},
   "outputs": [],
   "source": []
  }
 ],
 "metadata": {
  "kernelspec": {
   "display_name": "Python 3",
   "language": "python",
   "name": "python3"
  },
  "language_info": {
   "codemirror_mode": {
    "name": "ipython",
    "version": 3
   },
   "file_extension": ".py",
   "mimetype": "text/x-python",
   "name": "python",
   "nbconvert_exporter": "python",
   "pygments_lexer": "ipython3",
   "version": "3.6.7"
  }
 },
 "nbformat": 4,
 "nbformat_minor": 2
}
